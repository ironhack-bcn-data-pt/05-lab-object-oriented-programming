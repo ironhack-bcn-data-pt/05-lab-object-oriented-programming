{
 "cells": [
  {
   "cell_type": "markdown",
   "metadata": {},
   "source": [
    "# Before your start:\n",
    "- Read the README.md file\n",
    "- Comment as much as you can and use the resources in the README.md file\n",
    "- Happy learning!"
   ]
  },
  {
   "cell_type": "markdown",
   "metadata": {},
   "source": [
    "# Challenge 1 - Matrix Functions\n",
    "\n",
    "#### We would like to create our own matrix. To make life simple for us, we can represent matrices as a list of lists. For the sake of simplicity, we will assume that the maximum number of dimensions a matrix will have is 2.\n",
    "\n",
    "The most basic thing we would like to do with two matrices is to add them together. To add two matrices, we must perform a number of checks. The first check we would like to perform is whether the matrix is two dimesional. This is because we want to limit ourselves to two dimensional matrices to simplify our problem. In the cell below write a function that checks is a matrix is two dimesional. "
   ]
  },
  {
   "cell_type": "code",
   "execution_count": 6,
   "metadata": {},
   "outputs": [],
   "source": [
    "import numpy as np\n",
    "def twodim(mat):\n",
    "    # This function takes a list of lists and checks that it is of depth 2. \n",
    "    # If the depth is not 2, either return false or return informative errors that let the user know the depth of the list.\n",
    "    # Input: nested list\n",
    "    # Output: Boolean (or error)\n",
    "    # Sample Input: [[1,2,3], [4,5,6]]\n",
    "    # Sample Output: True\n",
    "    \n",
    "    # Your Code Here:\n",
    "    mat_arr = np.asarray(mat,dtype=object)\n",
    "    if len(mat_arr.shape) == 2:\n",
    "        return True\n",
    "    else:\n",
    "        return False\n"
   ]
  },
  {
   "cell_type": "code",
   "execution_count": 50,
   "metadata": {},
   "outputs": [
    {
     "data": {
      "text/plain": [
       "False"
      ]
     },
     "execution_count": 50,
     "metadata": {},
     "output_type": "execute_result"
    }
   ],
   "source": [
    "twodim([[1,2], [1,2,3],[1,2,3]])"
   ]
  },
  {
   "cell_type": "markdown",
   "metadata": {},
   "source": [
    "# Bonus Challenge 1 - Write the function recursively\n",
    "\n",
    "Rewrite the `twodim` function using recursion. \n",
    "Read more about recursion [here](https://www.cs.utah.edu/~germain/PPS/Topics/recursion.html)\n",
    "\n",
    "Hint: stop your recursion when there are no more lists, this wil be the depth of your matrix. Check that this depth is equal to 2.\n",
    "Second Hint: At every level of the recursion, use the filter function to keep only the members of the list that are lists."
   ]
  },
  {
   "cell_type": "code",
   "execution_count": 212,
   "metadata": {},
   "outputs": [],
   "source": [
    "def twodimrecursive(mat, count=1):\n",
    "    # Your code here:\n",
    "    \n",
    "    # keep only the lists on this level of depth\n",
    "    \n",
    "    mat_filt = list(filter(lambda x: True if isinstance(x,list) else False, mat))\n",
    "    \n",
    "    # check if there is some list on this level of depth\n",
    "    \n",
    "    if len(mat_filt) > 0:\n",
    "        # pass the next level of depth to the recursive function and count the recursion\n",
    "        \n",
    "        mat_filt_2 = [x for i in mat_filt for x in i]\n",
    "        return twodimrecursive(mat_filt_2, count + 1)\n",
    "    \n",
    "    else:\n",
    "        return count\n",
    "     "
   ]
  },
  {
   "cell_type": "code",
   "execution_count": 217,
   "metadata": {},
   "outputs": [
    {
     "data": {
      "text/plain": [
       "2"
      ]
     },
     "execution_count": 217,
     "metadata": {},
     "output_type": "execute_result"
    }
   ],
   "source": [
    "twodimrecursive([[1,2,3],[1,2]])"
   ]
  },
  {
   "cell_type": "markdown",
   "metadata": {},
   "source": [
    "#### Next, we will write a function that checks for the number of rows and columns of a matrix. \n",
    "\n",
    "Recall that the outer list will tell us the number of rows and the inner lists will tell us the number of columns. Make sure that all inner lists are of the same length."
   ]
  },
  {
   "cell_type": "code",
   "execution_count": 139,
   "metadata": {},
   "outputs": [],
   "source": [
    "def rowcolumn(mat):\n",
    "    # This function takes a list of lists and returns the size of the rows and the columns \n",
    "    # Input: list of lists\n",
    "    # Output: Tuple of rows and columns\n",
    "    #\n",
    "    # Sample input: [[1,2,3],[4,5,6]]\n",
    "    # Sample Output: (2, 3)\n",
    "    \n",
    "    # Your code here:\n",
    "    new_arr = np.asarray(mat, dtype=object)\n",
    "    r,c = new_arr.shape\n",
    "    return (r,c)\n",
    "   "
   ]
  },
  {
   "cell_type": "code",
   "execution_count": 141,
   "metadata": {},
   "outputs": [
    {
     "data": {
      "text/plain": [
       "(3, 4)"
      ]
     },
     "execution_count": 141,
     "metadata": {},
     "output_type": "execute_result"
    }
   ],
   "source": [
    "rowcolumn([[1,2,3,4], [1,2,3,4],[1,2,3,4]])"
   ]
  },
  {
   "cell_type": "markdown",
   "metadata": {},
   "source": [
    "#### Our next step is to write a function that compares two matrices and tells us whether they are of equal size.\n",
    "\n",
    "In this function we will check whether the number of rows and number of columns is the same."
   ]
  },
  {
   "cell_type": "code",
   "execution_count": 144,
   "metadata": {},
   "outputs": [],
   "source": [
    "def compare(mat1, mat2):\n",
    "    # This function takes a two lists of lists and checks whether they have the same number of rows and columns\n",
    "    # Input: two list of lists\n",
    "    # Output: True or False\n",
    "    #\n",
    "    # Sample input: [[1,2,3],[4,5,6]], [[7,8,9], [10,11,12]]\n",
    "    # Sample Output: True\n",
    "    \n",
    "    # Your code here:\n",
    "    arr1 = np.asarray(mat1, dtype=object)\n",
    "    arr2 = np.asarray(mat2, dtype=object)\n",
    "    r1, c1 = arr1.shape\n",
    "    r2, c2 = arr2.shape\n",
    "    \n",
    "    return (r1,c1) == (r2,c2)"
   ]
  },
  {
   "cell_type": "code",
   "execution_count": 145,
   "metadata": {},
   "outputs": [
    {
     "data": {
      "text/plain": [
       "True"
      ]
     },
     "execution_count": 145,
     "metadata": {},
     "output_type": "execute_result"
    }
   ],
   "source": [
    "compare([[1,2,3],[4,5,6]], [[7,8,9], [10,11,12]])"
   ]
  },
  {
   "cell_type": "markdown",
   "metadata": {},
   "source": [
    "#### Now that we have all the tools we need, write a function that adds two matrices together. \n",
    "\n",
    "Remember that a matrix is represented as a list of lists. Therefore, we must add each element in the list. The plus symbol is used for concatenating two lists and not for adding every element in two lists."
   ]
  },
  {
   "cell_type": "code",
   "execution_count": 289,
   "metadata": {},
   "outputs": [],
   "source": [
    "def addition(mat1, mat2):\n",
    "    # This function takes a two lists of lists and adds each cell together\n",
    "    # Input: two list of lists\n",
    "    # Output: one summed list of lists\n",
    "    #\n",
    "    # Sample input: [[1,2,3],[4,5,6]], [[7,8,9], [10,11,12]]\n",
    "    # Sample Output: [[8,10,12],[14,16,18]]\n",
    "    \n",
    "    # Your code here:\n",
    "    if compare(mat1, mat2):\n",
    "        for i in range(0,rowcolumn(mat1)[0]):\n",
    "            for x in range(0,rowcolumn(mat1)[1]):\n",
    "                mat1[i][x] = mat1[i][x] + mat2[i][x]\n",
    "    return mat1   \n"
   ]
  },
  {
   "cell_type": "code",
   "execution_count": 290,
   "metadata": {},
   "outputs": [
    {
     "data": {
      "text/plain": [
       "[[8, 10, 12], [14, 16, 18]]"
      ]
     },
     "execution_count": 290,
     "metadata": {},
     "output_type": "execute_result"
    }
   ],
   "source": [
    "addition([[1,2,3],[4,5,6]], [[7,8,9], [10,11,12]])"
   ]
  },
  {
   "cell_type": "markdown",
   "metadata": {},
   "source": [
    "# Challenge 2 - Creating the Class\n",
    "\n",
    "In the cell below, you will be creating the class Matrix2D. Use the functions you have written above and tweak them according to the instructions in the comments. You got this!"
   ]
  },
  {
   "cell_type": "code",
   "execution_count": 291,
   "metadata": {},
   "outputs": [],
   "source": [
    "class Matrix2D:\n",
    "    # First, we will write the __init__ function. \n",
    "    # In this function, we will initialize rows and the columns using the matrix that we have passed to the class.\n",
    "    \n",
    "    def __init__(self, mat):\n",
    "        # Assign mat to self.mat\n",
    "        # Assign rows and cols to self.rows and self.cols\n",
    "        # To find the rows and the cols, use the rowcolumn function and pass self.mat to the function.\n",
    "        # Since the rowcolumn function is now a member of the class, make sure to refer to the function as self.rowcolumn\n",
    "        \n",
    "        # Your code here:\n",
    "        self.mat = mat\n",
    "        \n",
    "        self.rows = self.rowcolumn(self.mat)[0]\n",
    "        self.cols = self.rowcolumn(self.mat)[1]\n",
    "        \n",
    "        \n",
    "    \n",
    "    # Insert the twodim function here.\n",
    "    # The only change you need to make is that now we are passing self and mat to the function (make sure self is first).\n",
    "    \n",
    "    # Your code here:\n",
    "    def twodim(self,mat):\n",
    "        mat_arr = np.asarray(mat,dtype=object)\n",
    "        if len(mat_arr.shape) == 2:\n",
    "            return True\n",
    "        else:\n",
    "            return False\n",
    "\n",
    "    \n",
    "    # Insert the rowcolumn function here.\n",
    "    # The changes you need to make: \n",
    "    # 1. The function now takes self and mat as arguments (make sure to pass self first).\n",
    "    # 2. Any reference to twodim will be changed to self.twodim since this function is a member of the class and takes self \n",
    "    \n",
    "    # Your code here:\n",
    "    def rowcolumn(self, mat):\n",
    "        new_arr = np.asarray(mat, dtype=object)\n",
    "        r,c = new_arr.shape\n",
    "        return (r,c)\n",
    "\n",
    "    \n",
    "    # Insert the compare function here\n",
    "    # Add self as the first argument passed to the function\n",
    "    \n",
    "    # Your code here:\n",
    "    def compare(self, mat1, mat2):\n",
    "        arr1 = np.asarray(mat1, dtype=object)\n",
    "        arr2 = np.asarray(mat2, dtype=object)\n",
    "        r1, c1 = arr1.shape\n",
    "        r2, c2 = arr2.shape\n",
    "        \n",
    "        return (r1,c1) == (r2,c2)\n",
    "\n",
    "    \n",
    "\n",
    "    # Insert the addition function here\n",
    "    # This function now takes self and matrix (another matrix of the Matrix2D class)\n",
    "    # Change the compare function to self.compare \n",
    "    # Change any reference to mat1 and mat2 to self.mat and matrix.mat respectively\n",
    "    # Return your result as a Matrix2D(result). This will ensure that we return a new matrix and not a list of lists.\n",
    "    \n",
    "    # Your code here:\n",
    "    def addition(self, matrix):\n",
    "        if self.compare(self.mat, matrix.mat):\n",
    "            for i in range(0,rowcolumn(self.mat)[0]):\n",
    "                for x in range(0,rowcolumn(self.mat)[1]):\n",
    "                    self.mat[i][x] = self.mat[i][x] + matrix.mat[i][x]\n",
    "        \n",
    "        return Matrix2D(self.mat)\n",
    "        \n",
    "     \n"
   ]
  },
  {
   "cell_type": "code",
   "execution_count": 292,
   "metadata": {},
   "outputs": [
    {
     "data": {
      "text/plain": [
       "[[8, 10, 12], [14, 16, 18]]"
      ]
     },
     "execution_count": 292,
     "metadata": {},
     "output_type": "execute_result"
    }
   ],
   "source": [
    "Matrix2D([[1,2,3],[4,5,6]]).addition(Matrix2D([[7,8,9],[10,11,12]])).mat"
   ]
  },
  {
   "cell_type": "markdown",
   "metadata": {},
   "source": [
    "# Bonus Challenge 2 - Transpose Function\n",
    "\n",
    "#### Write a function that transposes the matrix and add it to your class.\n",
    "\n",
    "You can read more about the transpose of a matrix [here](https://en.wikipedia.org/wiki/Transpose).\n",
    "\n",
    "Hint: Use the zip function. Read about it [here](https://docs.python.org/3.3/library/functions.html#zip)\n",
    "\n",
    "Second Hint: Read about the asterisk in Python [here](https://docs.python.org/3/reference/expressions.html#expression-lists)"
   ]
  },
  {
   "cell_type": "code",
   "execution_count": 350,
   "metadata": {},
   "outputs": [],
   "source": [
    "def transpose(mat):\n",
    "    # This function takes a list of lists and returns a transposed list of lists.\n",
    "    # Input: list of lists\n",
    "    # Output: list of lists\n",
    "    \n",
    "    # Sample Input: [[1,2,3],[4,5,6]]\n",
    "    # Sample Output: [[1,4], [2,5], [3,6]]\n",
    "    \n",
    "    # Your code here:\n",
    "    pass\n",
    "\n",
    "    mat_fragmented = [x for i in mat for x in i]\n",
    "    #iter_mat = iter(mat_fragmented)\n",
    "    '''\n",
    "    tra_mat = []\n",
    "    r,c = rowcolumn(mat)\n",
    "    print(r,c)\n",
    "    \n",
    "    for i in range(0,c+1):\n",
    "        print(\"hey i'm i : \", i )\n",
    "        tra_mat.append([])\n",
    "        for z in range(0,r):\n",
    "            print(\"hey i'm z: \", z)\n",
    "            tra_mat[i].append()\n",
    "            print(\"hey i'm tra_mat: \", tra_mat)\n",
    "        '''    \n",
    "        \n",
    "            \n",
    "        \n",
    "            \n",
    "    \n",
    "    "
   ]
  },
  {
   "cell_type": "code",
   "execution_count": 351,
   "metadata": {},
   "outputs": [],
   "source": [
    "transpose([[1,2,3],[4,5,6]])"
   ]
  },
  {
   "cell_type": "code",
   "execution_count": null,
   "metadata": {
    "collapsed": true
   },
   "outputs": [],
   "source": []
  }
 ],
 "metadata": {
  "kernelspec": {
   "display_name": "Python 3 (ipykernel)",
   "language": "python",
   "name": "python3"
  },
  "language_info": {
   "codemirror_mode": {
    "name": "ipython",
    "version": 3
   },
   "file_extension": ".py",
   "mimetype": "text/x-python",
   "name": "python",
   "nbconvert_exporter": "python",
   "pygments_lexer": "ipython3",
   "version": "3.9.7"
  }
 },
 "nbformat": 4,
 "nbformat_minor": 2
}
