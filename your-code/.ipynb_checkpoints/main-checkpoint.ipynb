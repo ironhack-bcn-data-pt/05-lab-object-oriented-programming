{
 "cells": [
  {
   "cell_type": "markdown",
   "metadata": {},
   "source": [
    "# Before your start:\n",
    "- Read the README.md file\n",
    "- Comment as much as you can and use the resources in the README.md file\n",
    "- Happy learning!"
   ]
  },
  {
   "cell_type": "markdown",
   "metadata": {},
   "source": [
    "# Challenge 1 - Matrix Functions\n",
    "\n",
    "#### We would like to create our own matrix. To make life simple for us, we can represent matrices as a list of lists. For the sake of simplicity, we will assume that the maximum number of dimensions a matrix will have is 2.\n",
    "\n",
    "The most basic thing we would like to do with two matrices is to add them together. To add two matrices, we must perform a number of checks. The first check we would like to perform is whether the matrix is two dimesional. This is because we want to limit ourselves to two dimensional matrices to simplify our problem. In the cell below write a function that checks is a matrix is two dimesional. "
   ]
  },
  {
   "cell_type": "code",
   "execution_count": 1,
   "metadata": {},
   "outputs": [],
   "source": [
    "def twodim(mat):\n",
    "    # This function takes a list of lists and checks that it is of depth 2. \n",
    "    # If the depth is not 2, either return false or return informative errors that let the user know the depth of the list.\n",
    "    # Input: nested list\n",
    "    # Output: Boolean (or error)\n",
    "    # Sample Input: [[1,2,3], [4,5,6]]\n",
    "    # Sample Output: True\n",
    "    \n",
    "    # Your Code Here:\n",
    "    for i in mat:\n",
    "        for j in i:\n",
    "            if type(j)==list:\n",
    "                return False\n",
    "            else:\n",
    "                return True\n",
    "    \n",
    "    \n",
    "    \n",
    "                    \n",
    "            "
   ]
  },
  {
   "cell_type": "code",
   "execution_count": 2,
   "metadata": {},
   "outputs": [
    {
     "data": {
      "text/plain": [
       "False"
      ]
     },
     "execution_count": 2,
     "metadata": {},
     "output_type": "execute_result"
    }
   ],
   "source": [
    "twodim([[[1,[2,1],3],[1,2,3]]])"
   ]
  },
  {
   "cell_type": "markdown",
   "metadata": {},
   "source": [
    "# Bonus Challenge 1 - Write the function recursively\n",
    "\n",
    "Rewrite the `twodim` function using recursion. \n",
    "Read more about recursion [here](https://www.cs.utah.edu/~germain/PPS/Topics/recursion.html)\n",
    "\n",
    "Hint: stop your recursion when there are no more lists, this wil be the depth of your matrix. Check that this depth is equal to 2.\n",
    "Second Hint: At every level of the recursion, use the filter function to keep only the members of the list that are lists."
   ]
  },
  {
   "cell_type": "code",
   "execution_count": 5,
   "metadata": {},
   "outputs": [],
   "source": [
    "#def twodimrecursive(mat):\n",
    "    # Your code here:\n",
    "#    depth=1 #dimension de partida\n",
    "    #dimension=[\"mat\",\"i\",\"j\"] #elementos de itinerancia hasta 3 dimensiones xq la 4 dimension es imposible\n",
    "    #for dimension[depth] in dimension[depth+1]: \n",
    "  #      if len(list(filter(lambda x: type(x)==list, dimension[depth])))==0:\n",
    "     #       depth =  depth + 1\n",
    " #       else:\n",
    "#            break\n",
    "#    return depth==2\n",
    "\n",
    "#2a solucion intentada\n",
    "#def twodimrecursive(mat,dimension=0):\n",
    " #   if len(list((filter(lambda x: type(x)==list, mat))))==0:\n",
    "#        return print(dimension)\n",
    "#    else:\n",
    "#        dimension += 1\n",
    "#        for i in list((filter(lambda x: type(x)==list, mat))):\n",
    "#            twodimrecursive(i)\n",
    "            "
   ]
  },
  {
   "cell_type": "markdown",
   "metadata": {},
   "source": [
    "NO SALE, ME ES IMPOSIBLE\n",
    "RECURSOS BUSCADOS:\n",
    "- https://stackoverflow.com/questions/4138851/recursive-looping-function-in-python\n",
    "- https://stackoverflow.com/questions/43034302/for-loop-stops-iterating-in-recursive-function\n",
    "- https://stackoverflow.com/questions/21049724/python-convert-a-for-loop-into-a-recursion-function"
   ]
  },
  {
   "cell_type": "code",
   "execution_count": 9,
   "metadata": {},
   "outputs": [],
   "source": [
    "#solución gerard\n",
    "def twodimrecursive(mat, count=1):\n",
    "    # Your code here:\n",
    "    # keep only the lists on this level of depth\n",
    "    mat_filt = list(filter(lambda x: True if isinstance(x,list) else False, mat))\n",
    "    # check if there is some list on this level of depth\n",
    "    if len(mat_filt) > 0:\n",
    "        # pass the next level of depth to the recursive function and count the recursion\n",
    "        mat_filt_2 = [x for i in mat_filt for x in i]\n",
    "        return twodimrecursive(mat_filt_2, count + 1)\n",
    "    else:\n",
    "        return count==2"
   ]
  },
  {
   "cell_type": "code",
   "execution_count": 10,
   "metadata": {},
   "outputs": [
    {
     "data": {
      "text/plain": [
       "True"
      ]
     },
     "execution_count": 10,
     "metadata": {},
     "output_type": "execute_result"
    }
   ],
   "source": [
    "\n",
    "twodimrecursive([[1,2,3],[1,2]])    \n"
   ]
  },
  {
   "cell_type": "markdown",
   "metadata": {},
   "source": [
    "#### Next, we will write a function that checks for the number of rows and columns of a matrix. \n",
    "\n",
    "Recall that the outer list will tell us the number of rows and the inner lists will tell us the number of columns. Make sure that all inner lists are of the same length."
   ]
  },
  {
   "cell_type": "code",
   "execution_count": 11,
   "metadata": {},
   "outputs": [],
   "source": [
    "def rowcolumn(mat):\n",
    "    # This function takes a list of lists and returns the size of the rows and the columns \n",
    "    # Input: list of lists\n",
    "    # Output: Tuple of rows and columns\n",
    "    #\n",
    "    # Sample input: [[1,2,3],[4,5,6]]\n",
    "    # Sample Output: (2, 3)\n",
    "    \n",
    "    # Your code here:\n",
    "    count_i=0\n",
    "    count_j=0\n",
    "    for i in mat: #comprobación de igualdad\n",
    "        count_i += 1\n",
    "        for j in i:\n",
    "            count_j +=1\n",
    "    if not (count_j/count_i) == len(mat[0]):\n",
    "        return \"Not all inner lists are of the same length\"\n",
    "    return tuple([len(mat),len(mat[0])])\n",
    "\n"
   ]
  },
  {
   "cell_type": "code",
   "execution_count": 12,
   "metadata": {},
   "outputs": [
    {
     "data": {
      "text/plain": [
       "(3, 4)"
      ]
     },
     "execution_count": 12,
     "metadata": {},
     "output_type": "execute_result"
    }
   ],
   "source": [
    "rowcolumn([[1,2,3,4], [1,2,3,4],[1,2,3,4]])"
   ]
  },
  {
   "cell_type": "markdown",
   "metadata": {},
   "source": [
    "#### Our next step is to write a function that compares two matrices and tells us whether they are of equal size.\n",
    "\n",
    "In this function we will check whether the number of rows and number of columns is the same."
   ]
  },
  {
   "cell_type": "code",
   "execution_count": 13,
   "metadata": {},
   "outputs": [],
   "source": [
    "def compare(mat1, mat2):\n",
    "    # This function takes a two lists of lists and checks whether they have the same number of rows and columns\n",
    "    # Input: two list of lists\n",
    "    # Output: True or False\n",
    "    #\n",
    "    # Sample input: [[1,2,3],[4,5,6]], [[7,8,9], [10,11,12]]\n",
    "    # Sample Output: True\n",
    "    \n",
    "    # Your code here:\n",
    "    if len(mat1)==len(mat2):\n",
    "        \n",
    "        for i1,i2 in zip(mat1,mat2): #comprueba columnas\n",
    "            if len(i1)!=len(i2):\n",
    "                return False\n",
    "            else:\n",
    "                pass\n",
    "    else:\n",
    "        return False\n",
    "        \n",
    "    return True\n",
    "    #else:\n",
    "       # return False\n",
    "    \n",
    "            \n",
    "        \n",
    "    "
   ]
  },
  {
   "cell_type": "code",
   "execution_count": 14,
   "metadata": {},
   "outputs": [
    {
     "data": {
      "text/plain": [
       "True"
      ]
     },
     "execution_count": 14,
     "metadata": {},
     "output_type": "execute_result"
    }
   ],
   "source": [
    "compare([[1,2],[1,2,4]], [[1,8], [1,11,10]])"
   ]
  },
  {
   "cell_type": "markdown",
   "metadata": {},
   "source": [
    "#### Now that we have all the tools we need, write a function that adds two matrices together. \n",
    "\n",
    "Remember that a matrix is represented as a list of lists. Therefore, we must add each element in the list. The plus symbol is used for concatenating two lists and not for adding every element in two lists."
   ]
  },
  {
   "cell_type": "code",
   "execution_count": 15,
   "metadata": {},
   "outputs": [],
   "source": [
    "def addition(mat1, mat2):\n",
    "    # This function takes a two lists of lists and adds each cell together https://stackoverflow.com/questions/14050824/add-sum-of-values-of-two-lists-into-new-list\n",
    "    # Input: two list of lists\n",
    "    # Output: one summed list of lists\n",
    "    #\n",
    "    # Sample input: [[1,2,3],[4,5,6]], [[7,8,9], [10,11,12]]\n",
    "    # Sample Output: [[8,10,12],[14,16,18]]\n",
    "    \n",
    "    # Your code here:\n",
    "    '''if mat1 y mat2 son iguales entoces suma cada i1 a i2'''\n",
    "    matrix=[]\n",
    "    if compare(mat1, mat2)==1:\n",
    "        for i1,i2 in zip(mat1,mat2):\n",
    "            matrixx=[]\n",
    "            for j in zip(i1,i2):\n",
    "                matrixx.append(sum(j))\n",
    "           \n",
    "            matrix.append(matrixx)\n",
    "        return matrix\n",
    "    else:\n",
    "        print(\"las matrices no son iguales\")"
   ]
  },
  {
   "cell_type": "code",
   "execution_count": 16,
   "metadata": {},
   "outputs": [
    {
     "data": {
      "text/plain": [
       "[[8, 10], [14, 16]]"
      ]
     },
     "execution_count": 16,
     "metadata": {},
     "output_type": "execute_result"
    }
   ],
   "source": [
    "addition([[1,2],[4,5]], [[7,8], [10,11]])"
   ]
  },
  {
   "cell_type": "markdown",
   "metadata": {},
   "source": [
    "# Challenge 2 - Creating the Class\n",
    "\n",
    "In the cell below, you will be creating the class Matrix2D. Use the functions you have written above and tweak them according to the instructions in the comments. You got this!"
   ]
  },
  {
   "cell_type": "code",
   "execution_count": 17,
   "metadata": {},
   "outputs": [],
   "source": [
    "class Matrix2D:\n",
    "    # First, we will write the __init__ function. \n",
    "    # In this function, we will initialize rows and the columns using the matrix that we have passed to the class.\n",
    "    \n",
    "    def __init__(self, mat, rows=None, cols=None):\n",
    "        # Assign mat to self.mat\n",
    "        self.mat=mat\n",
    "        # Assign rows and cols to self.rows and self.cols\n",
    "        self.rows=len(self.mat[0])\n",
    "        self.cols=len(self.mat)\n",
    "        # To find the rows and the cols, use the rowcolumn function and pass self.mat to the function.\n",
    "        # Since the rowcolumn function is now a member of the class, make sure to refer to the function as self.rowcolumn\n",
    "        \n",
    "        # Your code here:\n",
    "        \n",
    "        \n",
    "    \n",
    "    \n",
    "    # Insert the twodim function here.\n",
    "    # The only change you need to make is that now we are passing self and mat to the function (make sure self is first).\n",
    "    \n",
    "    # Your code here:\n",
    "    def twodim(self):\n",
    "        for i in self.mat:\n",
    "            for j in i:\n",
    "                if type(j)==list:\n",
    "                    return False\n",
    "                else:\n",
    "                    return True       \n",
    "        \n",
    "    \n",
    "    # Insert the rowcolumn function here.\n",
    "    # The changes you need to make: \n",
    "    # 1. The function now takes self and mat as arguments (make sure to pass self first).\n",
    "    # 2. Any reference to twodim will be changed to self.twodim since this function is a member of the class and takes self \n",
    "    \n",
    "    # Your code here:\n",
    "    def rowcolumn(self):\n",
    "        count_i=0\n",
    "        count_j=0\n",
    "        for i in self.mat: #comprobación de igualdad\n",
    "            count_i += 1\n",
    "            for j in i:\n",
    "                count_j +=1\n",
    "        if not (count_j/count_i) == len(self.mat[0]):\n",
    "            return \"Not all inner lists are of the same length\"\n",
    "        return tuple([len(self.mat),len(self.mat[0])])\n",
    "\n",
    "    \n",
    "    \n",
    "    # Insert the compare function here\n",
    "    # Add self as the first argument passed to the function\n",
    "    \n",
    "    # Your code here:\n",
    "    def compare(self, matriu):\n",
    "        if len(self.mat)==len(matriu):\n",
    "            for i1,i2 in zip(self.mat,matriu): #comprueba columnas\n",
    "                if len(i1)==len(i2):\n",
    "                    return False\n",
    "                else:\n",
    "                    pass\n",
    "        else:\n",
    "            return False\n",
    "        return True\n",
    "         \n",
    "    \n",
    "        \n",
    "     \n",
    "\n",
    "    # Insert the addition function here\n",
    "    # This function now takes self and matrix (another matrix of the Matrix2D class)\n",
    "    # Change the compare function to self.compare \n",
    "    # Change any reference to mat1 and mat2 to self.mat and matrix.mat respectively\n",
    "    # Return your result as a Matrix2D(result). This will ensure that we return a new matrix and not a list of lists.\n",
    "    \n",
    "    # Your code here:\n",
    "    def addition(self,matrix=None): #eliminado el compare porque sino no daba\n",
    "        matriz=[]\n",
    "        for i1,i2 in zip(self.mat,matrix):\n",
    "            matrizx=[]\n",
    "            for j in zip(i1,i2):\n",
    "                matrizx.append(sum(j))\n",
    "\n",
    "            matriz.append(matrizx)\n",
    "        return matriz\n",
    "    \n",
    "        \n",
    "    \n"
   ]
  },
  {
   "cell_type": "code",
   "execution_count": 18,
   "metadata": {},
   "outputs": [
    {
     "data": {
      "text/plain": [
       "[[8, 10, 12], [14, 16, 18]]"
      ]
     },
     "execution_count": 18,
     "metadata": {},
     "output_type": "execute_result"
    }
   ],
   "source": [
    "Matrix2D([[1,2,3],[4,5,6]]).addition(Matrix2D([[7,8,9],[10,11,12]]).mat)\n"
   ]
  },
  {
   "cell_type": "markdown",
   "metadata": {},
   "source": [
    "# Bonus Challenge 2 - Transpose Function\n",
    "\n",
    "#### Write a function that transposes the matrix and add it to your class.\n",
    "\n",
    "You can read more about the transpose of a matrix [here](https://en.wikipedia.org/wiki/Transpose).\n",
    "\n",
    "Hint: Use the zip function. Read about it [here](https://docs.python.org/3.3/library/functions.html#zip)\n",
    "\n",
    "Second Hint: Read about the asterisk in Python [here](https://docs.python.org/3/reference/expressions.html#expression-lists)"
   ]
  },
  {
   "cell_type": "code",
   "execution_count": 19,
   "metadata": {},
   "outputs": [],
   "source": [
    "def transpose(mat):\n",
    "    # This function takes a list of lists and returns a transposed list of lists.\n",
    "    # Input: list of lists\n",
    "    # Output: list of lists\n",
    "    \n",
    "    # Sample Input: [[1,2,3],[4,5,6]]\n",
    "    # Sample Output: [[1,4], [2,5], [3,6]]\n",
    "    \n",
    "    # Your code here:\n",
    "    return [[mat[j][i] for j in range(len(mat))] for i in range(len(mat[0]))]\n",
    "\n",
    "            #list in lists comprehension que devuelve valor\n",
    "              #  el resultado mat[j][i] da la vuelta a el input [i]x[j]\n",
    "    \n",
    "        \n",
    "    "
   ]
  },
  {
   "cell_type": "code",
   "execution_count": 20,
   "metadata": {},
   "outputs": [
    {
     "data": {
      "text/plain": [
       "[[1, 4], [2, 5], [3, 6]]"
      ]
     },
     "execution_count": 20,
     "metadata": {},
     "output_type": "execute_result"
    }
   ],
   "source": [
    "transpose([[1,2,3],[4,5,6]])"
   ]
  }
 ],
 "metadata": {
  "kernelspec": {
   "display_name": "Python 3",
   "language": "python",
   "name": "python3"
  },
  "language_info": {
   "codemirror_mode": {
    "name": "ipython",
    "version": 3
   },
   "file_extension": ".py",
   "mimetype": "text/x-python",
   "name": "python",
   "nbconvert_exporter": "python",
   "pygments_lexer": "ipython3",
   "version": "3.8.8"
  }
 },
 "nbformat": 4,
 "nbformat_minor": 2
}
